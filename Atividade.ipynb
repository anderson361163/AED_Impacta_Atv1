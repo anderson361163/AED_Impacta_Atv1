{
  "nbformat": 4,
  "nbformat_minor": 0,
  "metadata": {
    "colab": {
      "name": "Atividade.ipynb",
      "provenance": [],
      "authorship_tag": "ABX9TyMV7u3nedDrVIVmK/RT+vI1",
      "include_colab_link": true
    },
    "kernelspec": {
      "name": "python3",
      "display_name": "Python 3"
    },
    "language_info": {
      "name": "python"
    }
  },
  "cells": [
    {
      "cell_type": "markdown",
      "metadata": {
        "id": "view-in-github",
        "colab_type": "text"
      },
      "source": [
        "<a href=\"https://colab.research.google.com/github/anderson361163/AED_Impacta_Atv1/blob/main/Atividade.ipynb\" target=\"_parent\"><img src=\"https://colab.research.google.com/assets/colab-badge.svg\" alt=\"Open In Colab\"/></a>"
      ]
    },
    {
      "cell_type": "code",
      "execution_count": null,
      "metadata": {
        "id": "RfhiNx1ACpj9"
      },
      "outputs": [],
      "source": [
        "import pandas as pd\n",
        "import scipy.stats as stc"
      ]
    },
    {
      "cell_type": "code",
      "source": [
        "df = pd.read_csv('Diabetes.csv')"
      ],
      "metadata": {
        "id": "QLKsGoV2DiL1"
      },
      "execution_count": null,
      "outputs": []
    },
    {
      "cell_type": "code",
      "source": [
        "# Retirar insulina igual a 0\n",
        "df = df.query('Insulin != 0')"
      ],
      "metadata": {
        "id": "C8hBHSRmD4gV"
      },
      "execution_count": null,
      "outputs": []
    },
    {
      "cell_type": "code",
      "source": [
        "# Função para Z\n",
        "def encontra_z(x, media, desvio):\n",
        "  z = round(float((x - media) / desvio), 3)\n",
        "  return z"
      ],
      "metadata": {
        "id": "hXWvpm47EYuM"
      },
      "execution_count": null,
      "outputs": []
    },
    {
      "cell_type": "code",
      "source": [
        "df_tem_diabetes = df.query('Outcome == 1')\n",
        "df_tem_diabetes"
      ],
      "metadata": {
        "id": "b6-N7_UtENOP"
      },
      "execution_count": null,
      "outputs": []
    },
    {
      "cell_type": "code",
      "source": [
        "df_nao_tem_diabetes = df.query('Outcome == 0')\n",
        "df_nao_tem_diabetes"
      ],
      "metadata": {
        "id": "WZGLXg5DFnZB"
      },
      "execution_count": null,
      "outputs": []
    },
    {
      "cell_type": "code",
      "source": [
        "# Qual a probabilidade de uma pessoa com mais de 200 de insulina ter diabetes\n",
        "x = 200\n",
        "media = df_tem_diabetes['Insulin'].describe()['mean']\n",
        "desvio = df_tem_diabetes['Insulin'].describe()['std']\n",
        "z = encontra_z(x, media, desvio)\n",
        "\n",
        "probabilidade = round((1 - stc.norm.cdf(z)) * 100, 1)\n",
        "probabilidade\n",
        "\n",
        "# Probabilidade de uma pessoa com mais de 200 de insulina ter diabetes é de: probabilidade"
      ],
      "metadata": {
        "colab": {
          "base_uri": "https://localhost:8080/"
        },
        "id": "8DndIA8_Ft-i",
        "outputId": "97263395-7576-417b-faa7-469ffb785f19"
      },
      "execution_count": null,
      "outputs": [
        {
          "output_type": "execute_result",
          "data": {
            "text/plain": [
              "0.47926434670771967"
            ]
          },
          "metadata": {},
          "execution_count": 82
        }
      ]
    },
    {
      "cell_type": "code",
      "source": [
        "# Qual a probabilidade de uma pessoa com menos de 110 de insulina não ter diabetes\n",
        "df_nao_tem_diabetes\n",
        "x = 110\n",
        "media = df_nao_tem_diabetes['Insulin'].describe()['mean']\n",
        "desvio = df_nao_tem_diabetes['Insulin'].describe()['std']\n",
        "z = encontra_z(x, media, desvio)\n",
        "\n",
        "probabilidade = round((stc.norm.cdf(z)) * 100, 1)\n",
        "probabilidade"
      ],
      "metadata": {
        "colab": {
          "base_uri": "https://localhost:8080/"
        },
        "id": "9xKnv0fXI7k6",
        "outputId": "1a4da478-994d-42ee-e71e-24786b1574db"
      },
      "execution_count": null,
      "outputs": [
        {
          "output_type": "execute_result",
          "data": {
            "text/plain": [
              "66.2"
            ]
          },
          "metadata": {},
          "execution_count": 53
        }
      ]
    },
    {
      "cell_type": "code",
      "source": [
        "# Probabilidade de uma pessoa com mais de 45 anos ter diabete\n",
        "# filtrar por idade"
      ],
      "metadata": {
        "id": "BxkrqVUBMHe3"
      },
      "execution_count": null,
      "outputs": []
    },
    {
      "cell_type": "code",
      "source": [
        "#  Qual a probabilidade de escolher uma pessoa de forma aleatória na base e ela ter entre 28 a 45 anos\n",
        "x_28 = 28 \n",
        "x_45 = 45\n",
        "media = df['Age'].describe()['mean']\n",
        "desvio = df['Age'].describe()['std']\n",
        "z_45 = encontra_z(x_45, media, desvio)\n",
        "z_28 = encontra_z(x_28, media, desvio)\n",
        "\n",
        "# Probabilidade da pessoa ter 45 anos\n",
        "prob_45 = stc.norm.cdf(z_45) \n",
        "# Probabilidade da pessoa ter 28 anos\n",
        "prob_28 = stc.norm.cdf(z_28)\n",
        "\n",
        "prob_entre_45_28 = round((prob_45 - prob_28) * 100, 1)\n",
        "print(f'{prob_entre_45_28}%')"
      ],
      "metadata": {
        "colab": {
          "base_uri": "https://localhost:8080/"
        },
        "id": "2Zdvm1GJNWg5",
        "outputId": "3521e263-7923-40ea-c95b-2fb6fcccfb3d"
      },
      "execution_count": null,
      "outputs": [
        {
          "output_type": "stream",
          "name": "stdout",
          "text": [
            "52.7%\n"
          ]
        }
      ]
    },
    {
      "cell_type": "code",
      "source": [
        "\n"
      ],
      "metadata": {
        "id": "tVTfWVIgNuG1"
      },
      "execution_count": null,
      "outputs": []
    }
  ]
}